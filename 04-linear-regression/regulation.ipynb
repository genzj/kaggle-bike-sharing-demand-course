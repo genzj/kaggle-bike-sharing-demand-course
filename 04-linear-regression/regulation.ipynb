{
 "cells": [
  {
   "cell_type": "code",
   "execution_count": 1,
   "metadata": {},
   "outputs": [],
   "source": [
    "import pandas as pd\n",
    "import numpy as np\n",
    "import matplotlib.pyplot as plt\n",
    "import seaborn as sns\n",
    "\n",
    "from sklearn.model_selection import train_test_split, GridSearchCV\n",
    "from sklearn.linear_model import LinearRegression, Lasso, Ridge, LassoCV, RidgeCV\n",
    "from sklearn.metrics import mean_squared_log_error, make_scorer"
   ]
  },
  {
   "cell_type": "code",
   "execution_count": 2,
   "metadata": {},
   "outputs": [],
   "source": [
    "%matplotlib inline\n",
    "sns.set()"
   ]
  },
  {
   "cell_type": "code",
   "execution_count": 3,
   "metadata": {},
   "outputs": [
    {
     "name": "stdout",
     "output_type": "stream",
     "text": [
      "PowerTransformer(copy=True, method='box-cox', standardize=False) [0.31567024]\n"
     ]
    },
    {
     "data": {
      "text/html": [
       "<div>\n",
       "<style scoped>\n",
       "    .dataframe tbody tr th:only-of-type {\n",
       "        vertical-align: middle;\n",
       "    }\n",
       "\n",
       "    .dataframe tbody tr th {\n",
       "        vertical-align: top;\n",
       "    }\n",
       "\n",
       "    .dataframe thead th {\n",
       "        text-align: right;\n",
       "    }\n",
       "</style>\n",
       "<table border=\"1\" class=\"dataframe\">\n",
       "  <thead>\n",
       "    <tr style=\"text-align: right;\">\n",
       "      <th></th>\n",
       "      <th>datetime</th>\n",
       "      <th>season</th>\n",
       "      <th>holiday</th>\n",
       "      <th>workingday</th>\n",
       "      <th>weather</th>\n",
       "      <th>temp</th>\n",
       "      <th>atemp</th>\n",
       "      <th>humidity</th>\n",
       "      <th>windspeed</th>\n",
       "      <th>casual</th>\n",
       "      <th>...</th>\n",
       "      <th>season_4</th>\n",
       "      <th>weather_1</th>\n",
       "      <th>weather_2</th>\n",
       "      <th>weather_3</th>\n",
       "      <th>weather_4</th>\n",
       "      <th>year</th>\n",
       "      <th>month</th>\n",
       "      <th>day</th>\n",
       "      <th>hour</th>\n",
       "      <th>weekday</th>\n",
       "    </tr>\n",
       "  </thead>\n",
       "  <tbody>\n",
       "    <tr>\n",
       "      <th>0</th>\n",
       "      <td>2011-01-01 00:00:00</td>\n",
       "      <td>1</td>\n",
       "      <td>0</td>\n",
       "      <td>0</td>\n",
       "      <td>1</td>\n",
       "      <td>9.84</td>\n",
       "      <td>14.395</td>\n",
       "      <td>81</td>\n",
       "      <td>9.701265</td>\n",
       "      <td>3</td>\n",
       "      <td>...</td>\n",
       "      <td>0</td>\n",
       "      <td>1</td>\n",
       "      <td>0</td>\n",
       "      <td>0</td>\n",
       "      <td>0</td>\n",
       "      <td>2011</td>\n",
       "      <td>1</td>\n",
       "      <td>1</td>\n",
       "      <td>0</td>\n",
       "      <td>5</td>\n",
       "    </tr>\n",
       "    <tr>\n",
       "      <th>1</th>\n",
       "      <td>2011-01-01 01:00:00</td>\n",
       "      <td>1</td>\n",
       "      <td>0</td>\n",
       "      <td>0</td>\n",
       "      <td>1</td>\n",
       "      <td>9.02</td>\n",
       "      <td>13.635</td>\n",
       "      <td>80</td>\n",
       "      <td>7.101665</td>\n",
       "      <td>8</td>\n",
       "      <td>...</td>\n",
       "      <td>0</td>\n",
       "      <td>1</td>\n",
       "      <td>0</td>\n",
       "      <td>0</td>\n",
       "      <td>0</td>\n",
       "      <td>2011</td>\n",
       "      <td>1</td>\n",
       "      <td>1</td>\n",
       "      <td>1</td>\n",
       "      <td>5</td>\n",
       "    </tr>\n",
       "    <tr>\n",
       "      <th>2</th>\n",
       "      <td>2011-01-01 02:00:00</td>\n",
       "      <td>1</td>\n",
       "      <td>0</td>\n",
       "      <td>0</td>\n",
       "      <td>1</td>\n",
       "      <td>9.02</td>\n",
       "      <td>13.635</td>\n",
       "      <td>80</td>\n",
       "      <td>7.101665</td>\n",
       "      <td>5</td>\n",
       "      <td>...</td>\n",
       "      <td>0</td>\n",
       "      <td>1</td>\n",
       "      <td>0</td>\n",
       "      <td>0</td>\n",
       "      <td>0</td>\n",
       "      <td>2011</td>\n",
       "      <td>1</td>\n",
       "      <td>1</td>\n",
       "      <td>2</td>\n",
       "      <td>5</td>\n",
       "    </tr>\n",
       "    <tr>\n",
       "      <th>3</th>\n",
       "      <td>2011-01-01 03:00:00</td>\n",
       "      <td>1</td>\n",
       "      <td>0</td>\n",
       "      <td>0</td>\n",
       "      <td>1</td>\n",
       "      <td>9.84</td>\n",
       "      <td>14.395</td>\n",
       "      <td>75</td>\n",
       "      <td>6.677052</td>\n",
       "      <td>3</td>\n",
       "      <td>...</td>\n",
       "      <td>0</td>\n",
       "      <td>1</td>\n",
       "      <td>0</td>\n",
       "      <td>0</td>\n",
       "      <td>0</td>\n",
       "      <td>2011</td>\n",
       "      <td>1</td>\n",
       "      <td>1</td>\n",
       "      <td>3</td>\n",
       "      <td>5</td>\n",
       "    </tr>\n",
       "    <tr>\n",
       "      <th>4</th>\n",
       "      <td>2011-01-01 04:00:00</td>\n",
       "      <td>1</td>\n",
       "      <td>0</td>\n",
       "      <td>0</td>\n",
       "      <td>1</td>\n",
       "      <td>9.84</td>\n",
       "      <td>14.395</td>\n",
       "      <td>75</td>\n",
       "      <td>6.677052</td>\n",
       "      <td>0</td>\n",
       "      <td>...</td>\n",
       "      <td>0</td>\n",
       "      <td>1</td>\n",
       "      <td>0</td>\n",
       "      <td>0</td>\n",
       "      <td>0</td>\n",
       "      <td>2011</td>\n",
       "      <td>1</td>\n",
       "      <td>1</td>\n",
       "      <td>4</td>\n",
       "      <td>5</td>\n",
       "    </tr>\n",
       "  </tbody>\n",
       "</table>\n",
       "<p>5 rows × 26 columns</p>\n",
       "</div>"
      ],
      "text/plain": [
       "             datetime  season  holiday  workingday  weather  temp   atemp  \\\n",
       "0 2011-01-01 00:00:00       1        0           0        1  9.84  14.395   \n",
       "1 2011-01-01 01:00:00       1        0           0        1  9.02  13.635   \n",
       "2 2011-01-01 02:00:00       1        0           0        1  9.02  13.635   \n",
       "3 2011-01-01 03:00:00       1        0           0        1  9.84  14.395   \n",
       "4 2011-01-01 04:00:00       1        0           0        1  9.84  14.395   \n",
       "\n",
       "   humidity  windspeed  casual  ...  season_4  weather_1  weather_2  \\\n",
       "0        81   9.701265       3  ...         0          1          0   \n",
       "1        80   7.101665       8  ...         0          1          0   \n",
       "2        80   7.101665       5  ...         0          1          0   \n",
       "3        75   6.677052       3  ...         0          1          0   \n",
       "4        75   6.677052       0  ...         0          1          0   \n",
       "\n",
       "   weather_3  weather_4  year  month  day  hour  weekday  \n",
       "0          0          0  2011      1    1     0        5  \n",
       "1          0          0  2011      1    1     1        5  \n",
       "2          0          0  2011      1    1     2        5  \n",
       "3          0          0  2011      1    1     3        5  \n",
       "4          0          0  2011      1    1     4        5  \n",
       "\n",
       "[5 rows x 26 columns]"
      ]
     },
     "execution_count": 3,
     "metadata": {},
     "output_type": "execute_result"
    }
   ],
   "source": [
    "import pickle\n",
    "with open('../count-power-transformer.pkl', 'rb') as inf:\n",
    "    pt = pickle.load(inf)\n",
    "data = pd.read_pickle('../data-fill-windspeed.pkl.xz')\n",
    "print(pt, pt.lambdas_)\n",
    "data.head()"
   ]
  },
  {
   "cell_type": "code",
   "execution_count": 4,
   "metadata": {},
   "outputs": [],
   "source": [
    "features = [\n",
    "    'season_1', 'season_2', 'season_3', 'season_4',\n",
    "    'weather_1', 'weather_2', 'weather_3', 'weather_4',\n",
    "    'year', 'month', 'weekday', 'hour',\n",
    "    'holiday', 'workingday', 'temp', 'atemp', 'humidity', 'windspeed',\n",
    "]\n",
    "target = 'count_transformed'"
   ]
  },
  {
   "cell_type": "code",
   "execution_count": 5,
   "metadata": {},
   "outputs": [],
   "source": [
    "x = data[features]\n",
    "y = data[target]\n",
    "count_original = data['count']"
   ]
  },
  {
   "cell_type": "code",
   "execution_count": 6,
   "metadata": {},
   "outputs": [
    {
     "name": "stdout",
     "output_type": "stream",
     "text": [
      "training set: (8164, 18) (8164,) \n",
      " testing set: (2722, 18) (2722,)\n"
     ]
    }
   ],
   "source": [
    "x_train, x_testing, y_train, _, _, y_testing = train_test_split(\n",
    "    x, y, count_original,\n",
    "    test_size=0.25, random_state=42,\n",
    ")\n",
    "print(\n",
    "    'training set:', x_train.shape, y_train.shape,\n",
    "    '\\n',\n",
    "    'testing set:', x_testing.shape, y_testing.shape,\n",
    ")"
   ]
  },
  {
   "cell_type": "code",
   "execution_count": 7,
   "metadata": {},
   "outputs": [],
   "source": [
    "models=[LinearRegression(), Ridge(), Lasso(), RidgeCV(cv=5), LassoCV(cv=5)]\n",
    "model_names=['LinearRegression', 'Ridge', 'Lasso', 'RidgeCV', 'LassoCV']"
   ]
  },
  {
   "cell_type": "code",
   "execution_count": 8,
   "metadata": {},
   "outputs": [],
   "source": [
    "for model in models:\n",
    "    model.fit(x_train, y_train)"
   ]
  },
  {
   "cell_type": "code",
   "execution_count": 9,
   "metadata": {},
   "outputs": [
    {
     "data": {
      "text/html": [
       "<div>\n",
       "<style scoped>\n",
       "    .dataframe tbody tr th:only-of-type {\n",
       "        vertical-align: middle;\n",
       "    }\n",
       "\n",
       "    .dataframe tbody tr th {\n",
       "        vertical-align: top;\n",
       "    }\n",
       "\n",
       "    .dataframe thead th {\n",
       "        text-align: right;\n",
       "    }\n",
       "</style>\n",
       "<table border=\"1\" class=\"dataframe\">\n",
       "  <thead>\n",
       "    <tr style=\"text-align: right;\">\n",
       "      <th></th>\n",
       "      <th>Model</th>\n",
       "      <th>RMSLE</th>\n",
       "    </tr>\n",
       "  </thead>\n",
       "  <tbody>\n",
       "    <tr>\n",
       "      <th>0</th>\n",
       "      <td>LinearRegression</td>\n",
       "      <td>1.013843</td>\n",
       "    </tr>\n",
       "    <tr>\n",
       "      <th>1</th>\n",
       "      <td>Ridge</td>\n",
       "      <td>1.013861</td>\n",
       "    </tr>\n",
       "    <tr>\n",
       "      <th>2</th>\n",
       "      <td>Lasso</td>\n",
       "      <td>1.049714</td>\n",
       "    </tr>\n",
       "    <tr>\n",
       "      <th>3</th>\n",
       "      <td>RidgeCV</td>\n",
       "      <td>1.013798</td>\n",
       "    </tr>\n",
       "    <tr>\n",
       "      <th>4</th>\n",
       "      <td>LassoCV</td>\n",
       "      <td>1.014231</td>\n",
       "    </tr>\n",
       "  </tbody>\n",
       "</table>\n",
       "</div>"
      ],
      "text/plain": [
       "              Model     RMSLE\n",
       "0  LinearRegression  1.013843\n",
       "1             Ridge  1.013861\n",
       "2             Lasso  1.049714\n",
       "3           RidgeCV  1.013798\n",
       "4           LassoCV  1.014231"
      ]
     },
     "execution_count": 9,
     "metadata": {},
     "output_type": "execute_result"
    }
   ],
   "source": [
    "rmsle = []\n",
    "predictions = []\n",
    "\n",
    "for name, model in zip(model_names, models):\n",
    "    y_pred = model.predict(x_testing)\n",
    "    y_pred = pt.inverse_transform(y_pred.reshape(-1, 1)).flatten()\n",
    "    predictions.append(y_pred)\n",
    "    rmsle.append(\n",
    "        np.sqrt(\n",
    "            mean_squared_log_error(\n",
    "                y_pred,\n",
    "                y_testing,\n",
    "            )\n",
    "        )\n",
    "    )\n",
    "\n",
    "result = pd.DataFrame({\n",
    "    'Model': model_names,\n",
    "    'RMSLE': rmsle,\n",
    "})\n",
    "result"
   ]
  },
  {
   "cell_type": "code",
   "execution_count": 10,
   "metadata": {},
   "outputs": [
    {
     "data": {
      "text/html": [
       "<div>\n",
       "<style scoped>\n",
       "    .dataframe tbody tr th:only-of-type {\n",
       "        vertical-align: middle;\n",
       "    }\n",
       "\n",
       "    .dataframe tbody tr th {\n",
       "        vertical-align: top;\n",
       "    }\n",
       "\n",
       "    .dataframe thead th {\n",
       "        text-align: right;\n",
       "    }\n",
       "</style>\n",
       "<table border=\"1\" class=\"dataframe\">\n",
       "  <thead>\n",
       "    <tr style=\"text-align: right;\">\n",
       "      <th></th>\n",
       "      <th>LinearRegression</th>\n",
       "      <th>Ridge</th>\n",
       "      <th>Lasso</th>\n",
       "      <th>RidgeCV</th>\n",
       "      <th>LassoCV</th>\n",
       "    </tr>\n",
       "  </thead>\n",
       "  <tbody>\n",
       "    <tr>\n",
       "      <th>season_1</th>\n",
       "      <td>-2.551298e+12</td>\n",
       "      <td>0.514316</td>\n",
       "      <td>-0.000000</td>\n",
       "      <td>0.482279</td>\n",
       "      <td>-0.000000</td>\n",
       "    </tr>\n",
       "    <tr>\n",
       "      <th>season_2</th>\n",
       "      <td>-2.551298e+12</td>\n",
       "      <td>0.349121</td>\n",
       "      <td>0.000000</td>\n",
       "      <td>0.340463</td>\n",
       "      <td>0.000000</td>\n",
       "    </tr>\n",
       "    <tr>\n",
       "      <th>season_3</th>\n",
       "      <td>-2.551298e+12</td>\n",
       "      <td>-1.144412</td>\n",
       "      <td>-0.000000</td>\n",
       "      <td>-1.125327</td>\n",
       "      <td>-1.081562</td>\n",
       "    </tr>\n",
       "    <tr>\n",
       "      <th>season_4</th>\n",
       "      <td>-2.551298e+12</td>\n",
       "      <td>0.280976</td>\n",
       "      <td>0.000000</td>\n",
       "      <td>0.302585</td>\n",
       "      <td>0.000000</td>\n",
       "    </tr>\n",
       "    <tr>\n",
       "      <th>weather_1</th>\n",
       "      <td>6.667641e+10</td>\n",
       "      <td>-0.378261</td>\n",
       "      <td>-0.000000</td>\n",
       "      <td>0.069225</td>\n",
       "      <td>-0.000000</td>\n",
       "    </tr>\n",
       "    <tr>\n",
       "      <th>weather_2</th>\n",
       "      <td>6.667641e+10</td>\n",
       "      <td>0.036421</td>\n",
       "      <td>0.000000</td>\n",
       "      <td>0.483538</td>\n",
       "      <td>0.317481</td>\n",
       "    </tr>\n",
       "    <tr>\n",
       "      <th>weather_3</th>\n",
       "      <td>6.667641e+10</td>\n",
       "      <td>-1.365192</td>\n",
       "      <td>-0.000000</td>\n",
       "      <td>-0.903459</td>\n",
       "      <td>-0.411571</td>\n",
       "    </tr>\n",
       "    <tr>\n",
       "      <th>weather_4</th>\n",
       "      <td>6.667641e+10</td>\n",
       "      <td>1.707032</td>\n",
       "      <td>0.000000</td>\n",
       "      <td>0.350696</td>\n",
       "      <td>0.000000</td>\n",
       "    </tr>\n",
       "    <tr>\n",
       "      <th>year</th>\n",
       "      <td>2.000010e+00</td>\n",
       "      <td>2.000245</td>\n",
       "      <td>0.000000</td>\n",
       "      <td>1.992510</td>\n",
       "      <td>1.864602</td>\n",
       "    </tr>\n",
       "    <tr>\n",
       "      <th>month</th>\n",
       "      <td>2.882485e-01</td>\n",
       "      <td>0.288012</td>\n",
       "      <td>0.164842</td>\n",
       "      <td>0.282392</td>\n",
       "      <td>0.262030</td>\n",
       "    </tr>\n",
       "    <tr>\n",
       "      <th>weekday</th>\n",
       "      <td>1.035080e-01</td>\n",
       "      <td>0.102416</td>\n",
       "      <td>0.000000</td>\n",
       "      <td>0.100958</td>\n",
       "      <td>0.058618</td>\n",
       "    </tr>\n",
       "    <tr>\n",
       "      <th>hour</th>\n",
       "      <td>3.547361e-01</td>\n",
       "      <td>0.354653</td>\n",
       "      <td>0.335556</td>\n",
       "      <td>0.354704</td>\n",
       "      <td>0.353426</td>\n",
       "    </tr>\n",
       "    <tr>\n",
       "      <th>holiday</th>\n",
       "      <td>1.552493e-01</td>\n",
       "      <td>0.147907</td>\n",
       "      <td>-0.000000</td>\n",
       "      <td>0.132250</td>\n",
       "      <td>-0.000000</td>\n",
       "    </tr>\n",
       "    <tr>\n",
       "      <th>workingday</th>\n",
       "      <td>1.833623e-01</td>\n",
       "      <td>0.179732</td>\n",
       "      <td>-0.000000</td>\n",
       "      <td>0.173655</td>\n",
       "      <td>0.000000</td>\n",
       "    </tr>\n",
       "    <tr>\n",
       "      <th>temp</th>\n",
       "      <td>1.300236e-01</td>\n",
       "      <td>0.129719</td>\n",
       "      <td>0.000000</td>\n",
       "      <td>0.128563</td>\n",
       "      <td>0.099534</td>\n",
       "    </tr>\n",
       "    <tr>\n",
       "      <th>atemp</th>\n",
       "      <td>1.094562e-01</td>\n",
       "      <td>0.110592</td>\n",
       "      <td>0.183835</td>\n",
       "      <td>0.111058</td>\n",
       "      <td>0.123763</td>\n",
       "    </tr>\n",
       "    <tr>\n",
       "      <th>humidity</th>\n",
       "      <td>-5.970422e-02</td>\n",
       "      <td>-0.059285</td>\n",
       "      <td>-0.067976</td>\n",
       "      <td>-0.059389</td>\n",
       "      <td>-0.063065</td>\n",
       "    </tr>\n",
       "    <tr>\n",
       "      <th>windspeed</th>\n",
       "      <td>2.014160e-02</td>\n",
       "      <td>0.019587</td>\n",
       "      <td>0.000000</td>\n",
       "      <td>0.019498</td>\n",
       "      <td>0.016391</td>\n",
       "    </tr>\n",
       "  </tbody>\n",
       "</table>\n",
       "</div>"
      ],
      "text/plain": [
       "            LinearRegression     Ridge     Lasso   RidgeCV   LassoCV\n",
       "season_1       -2.551298e+12  0.514316 -0.000000  0.482279 -0.000000\n",
       "season_2       -2.551298e+12  0.349121  0.000000  0.340463  0.000000\n",
       "season_3       -2.551298e+12 -1.144412 -0.000000 -1.125327 -1.081562\n",
       "season_4       -2.551298e+12  0.280976  0.000000  0.302585  0.000000\n",
       "weather_1       6.667641e+10 -0.378261 -0.000000  0.069225 -0.000000\n",
       "weather_2       6.667641e+10  0.036421  0.000000  0.483538  0.317481\n",
       "weather_3       6.667641e+10 -1.365192 -0.000000 -0.903459 -0.411571\n",
       "weather_4       6.667641e+10  1.707032  0.000000  0.350696  0.000000\n",
       "year            2.000010e+00  2.000245  0.000000  1.992510  1.864602\n",
       "month           2.882485e-01  0.288012  0.164842  0.282392  0.262030\n",
       "weekday         1.035080e-01  0.102416  0.000000  0.100958  0.058618\n",
       "hour            3.547361e-01  0.354653  0.335556  0.354704  0.353426\n",
       "holiday         1.552493e-01  0.147907 -0.000000  0.132250 -0.000000\n",
       "workingday      1.833623e-01  0.179732 -0.000000  0.173655  0.000000\n",
       "temp            1.300236e-01  0.129719  0.000000  0.128563  0.099534\n",
       "atemp           1.094562e-01  0.110592  0.183835  0.111058  0.123763\n",
       "humidity       -5.970422e-02 -0.059285 -0.067976 -0.059389 -0.063065\n",
       "windspeed       2.014160e-02  0.019587  0.000000  0.019498  0.016391"
      ]
     },
     "execution_count": 10,
     "metadata": {},
     "output_type": "execute_result"
    }
   ],
   "source": [
    "pd.DataFrame({\n",
    "    name: model.coef_ for name, model in zip(model_names, models)\n",
    "}, index=features)"
   ]
  },
  {
   "cell_type": "code",
   "execution_count": 11,
   "metadata": {},
   "outputs": [
    {
     "name": "stdout",
     "output_type": "stream",
     "text": [
      "{'LassoCV': {'alphas': None,\n",
      "             'copy_X': True,\n",
      "             'cv': 5,\n",
      "             'eps': 0.001,\n",
      "             'fit_intercept': True,\n",
      "             'max_iter': 1000,\n",
      "             'n_alphas': 100,\n",
      "             'n_jobs': None,\n",
      "             'normalize': False,\n",
      "             'positive': False,\n",
      "             'precompute': 'auto',\n",
      "             'random_state': None,\n",
      "             'selection': 'cyclic',\n",
      "             'tol': 0.0001,\n",
      "             'verbose': False},\n",
      " 'RidgeCV': {'alphas': array([ 0.1,  1. , 10. ]),\n",
      "             'cv': 5,\n",
      "             'fit_intercept': True,\n",
      "             'gcv_mode': None,\n",
      "             'normalize': False,\n",
      "             'scoring': None,\n",
      "             'store_cv_values': False}}\n"
     ]
    }
   ],
   "source": [
    "from pprint import pprint\n",
    "pprint({\n",
    "    name: model.get_params() for name, model in zip(model_names[-2:], models[-2:])\n",
    "})"
   ]
  },
  {
   "cell_type": "code",
   "execution_count": 12,
   "metadata": {},
   "outputs": [],
   "source": [
    "def root_mean_squared_log_error(y1, y2, transformer=pt):\n",
    "    y1 = y1.reshape(-1, 1)\n",
    "    y2 = y2.reshape(-1, 1)\n",
    "    if transformer:\n",
    "        y1 = transformer.inverse_transform(y1)\n",
    "        y2 = transformer.inverse_transform(y2)\n",
    "    return np.sqrt(\n",
    "        mean_squared_log_error(\n",
    "            y1,\n",
    "            y2,\n",
    "        )\n",
    "    )\n",
    "rmsle_scorer = make_scorer(root_mean_squared_log_error, greater_is_better=False)"
   ]
  },
  {
   "cell_type": "code",
   "execution_count": 13,
   "metadata": {
    "scrolled": false
   },
   "outputs": [
    {
     "data": {
      "text/plain": [
       "GridSearchCV(cv=5, error_score='raise-deprecating',\n",
       "             estimator=Ridge(alpha=1.0, copy_X=True, fit_intercept=True,\n",
       "                             max_iter=None, normalize=False, random_state=None,\n",
       "                             solver='auto', tol=0.001),\n",
       "             iid='warn', n_jobs=None,\n",
       "             param_grid={'alpha': [0.1, 1, 2, 3, 4, 10, 30, 100, 200, 300, 400,\n",
       "                                   800, 900, 1000]},\n",
       "             pre_dispatch='2*n_jobs', refit=True, return_train_score=False,\n",
       "             scoring=make_scorer(root_mean_squared_log_error, greater_is_better=False),\n",
       "             verbose=0)"
      ]
     },
     "execution_count": 13,
     "metadata": {},
     "output_type": "execute_result"
    }
   ],
   "source": [
    "ridge_m = Ridge()\n",
    "ridge_params = {\n",
    "    'alpha': [0.1, 1, 2, 3, 4, 10, 30,100,200,300,400,800,900,1000]\n",
    "#     'alpha': np.linspace(50, 199, 10)\n",
    "}\n",
    "grid_ridge = GridSearchCV(\n",
    "    ridge_m,\n",
    "    ridge_params,\n",
    "    scoring = rmsle_scorer,\n",
    "    cv=5\n",
    ")\n",
    "grid_ridge.fit(x_train, y_train.to_numpy())"
   ]
  },
  {
   "cell_type": "code",
   "execution_count": 14,
   "metadata": {},
   "outputs": [
    {
     "data": {
      "text/plain": [
       "Ridge(alpha=100, copy_X=True, fit_intercept=True, max_iter=None,\n",
       "      normalize=False, random_state=None, solver='auto', tol=0.001)"
      ]
     },
     "execution_count": 14,
     "metadata": {},
     "output_type": "execute_result"
    }
   ],
   "source": [
    "grid_ridge.best_estimator_"
   ]
  },
  {
   "cell_type": "code",
   "execution_count": 15,
   "metadata": {},
   "outputs": [
    {
     "data": {
      "text/plain": [
       "-1.0157153723952608"
      ]
     },
     "execution_count": 15,
     "metadata": {},
     "output_type": "execute_result"
    }
   ],
   "source": [
    "grid_ridge.best_score_"
   ]
  },
  {
   "cell_type": "code",
   "execution_count": 16,
   "metadata": {},
   "outputs": [
    {
     "data": {
      "image/png": "[encoded data removed]",
      "text/plain": [
       "<Figure size 864x576 with 1 Axes>"
      ]
     },
     "metadata": {},
     "output_type": "display_data"
    }
   ],
   "source": [
    "grid_results = pd.DataFrame(grid_ridge.cv_results_).reindex(columns=['param_alpha', 'mean_test_score'])\n",
    "grid_results['mean_test_score'] = np.abs(grid_results['mean_test_score'])\n",
    "sns.pointplot(data=grid_results, x=\"param_alpha\", y=\"mean_test_score\")\n",
    "plt.gcf().set_size_inches(12, 8)"
   ]
  },
  {
   "cell_type": "code",
   "execution_count": 17,
   "metadata": {},
   "outputs": [
    {
     "name": "stdout",
     "output_type": "stream",
     "text": [
      "Tuned Ridge RMSLE:  1.013354529355366\n"
     ]
    }
   ],
   "source": [
    "y_pred = grid_ridge.predict(x_testing)\n",
    "y_pred = pt.inverse_transform(y_pred.reshape(-1, 1)).flatten()\n",
    "print(\n",
    "    'Tuned Ridge RMSLE: ',\n",
    "    np.sqrt(\n",
    "        mean_squared_log_error(\n",
    "            y_pred,\n",
    "            y_testing,\n",
    "        )\n",
    "    )\n",
    ")"
   ]
  },
  {
   "cell_type": "code",
   "execution_count": 18,
   "metadata": {},
   "outputs": [
    {
     "data": {
      "text/plain": [
       "GridSearchCV(cv=5, error_score='raise-deprecating',\n",
       "             estimator=Lasso(alpha=1.0, copy_X=True, fit_intercept=True,\n",
       "                             max_iter=1000, normalize=False, positive=False,\n",
       "                             precompute=False, random_state=None,\n",
       "                             selection='cyclic', tol=0.0001, warm_start=False),\n",
       "             iid='warn', n_jobs=None,\n",
       "             param_grid={'alpha': [0.001, 0.01, 0.1, 1, 2, 3, 4, 10, 30, 100,\n",
       "                                   200, 300, 400]},\n",
       "             pre_dispatch='2*n_jobs', refit=True, return_train_score=False,\n",
       "             scoring=make_scorer(root_mean_squared_log_error, greater_is_better=False),\n",
       "             verbose=0)"
      ]
     },
     "execution_count": 18,
     "metadata": {},
     "output_type": "execute_result"
    }
   ],
   "source": [
    "lasso_m = Lasso()\n",
    "lasso_params = {\n",
    "    'alpha': [1e-3, 1e-2, 0.1, 1, 2, 3, 4, 10, 30,100,200,300,400,]\n",
    "#     'alpha': np.linspace(1e-3, 0.1, 10)\n",
    "}\n",
    "grid_lasso = GridSearchCV(\n",
    "    lasso_m,\n",
    "    lasso_params,\n",
    "    scoring = rmsle_scorer,\n",
    "    cv=5\n",
    ")\n",
    "grid_lasso.fit(x_train, y_train.to_numpy())"
   ]
  },
  {
   "cell_type": "code",
   "execution_count": 19,
   "metadata": {},
   "outputs": [
    {
     "data": {
      "text/plain": [
       "Lasso(alpha=0.01, copy_X=True, fit_intercept=True, max_iter=1000,\n",
       "      normalize=False, positive=False, precompute=False, random_state=None,\n",
       "      selection='cyclic', tol=0.0001, warm_start=False)"
      ]
     },
     "execution_count": 19,
     "metadata": {},
     "output_type": "execute_result"
    }
   ],
   "source": [
    "grid_lasso.best_estimator_"
   ]
  },
  {
   "cell_type": "code",
   "execution_count": 20,
   "metadata": {},
   "outputs": [
    {
     "data": {
      "text/plain": [
       "-1.0158379850127577"
      ]
     },
     "execution_count": 20,
     "metadata": {},
     "output_type": "execute_result"
    }
   ],
   "source": [
    "grid_lasso.best_score_"
   ]
  },
  {
   "cell_type": "code",
   "execution_count": 21,
   "metadata": {},
   "outputs": [
    {
     "data": {
      "image/png": "[encoded data removed]",
      "text/plain": [
       "<Figure size 864x576 with 1 Axes>"
      ]
     },
     "metadata": {},
     "output_type": "display_data"
    }
   ],
   "source": [
    "grid_results = pd.DataFrame(grid_lasso.cv_results_).reindex(columns=['param_alpha', 'mean_test_score'])\n",
    "grid_results['mean_test_score'] = np.abs(grid_results['mean_test_score'])\n",
    "sns.pointplot(data=grid_results, x=\"param_alpha\", y=\"mean_test_score\")\n",
    "plt.gcf().set_size_inches(12, 8)"
   ]
  },
  {
   "cell_type": "code",
   "execution_count": 22,
   "metadata": {},
   "outputs": [
    {
     "name": "stdout",
     "output_type": "stream",
     "text": [
      "Tuned Lasso RMSLE:  1.0135819690593597\n"
     ]
    }
   ],
   "source": [
    "y_pred = grid_lasso.predict(x_testing)\n",
    "y_pred = pt.inverse_transform(y_pred.reshape(-1, 1)).flatten()\n",
    "print(\n",
    "    'Tuned Lasso RMSLE: ',\n",
    "    np.sqrt(\n",
    "        mean_squared_log_error(\n",
    "            y_pred,\n",
    "            y_testing,\n",
    "        )\n",
    "    )\n",
    ")"
   ]
  },
  {
   "cell_type": "code",
   "execution_count": null,
   "metadata": {},
   "outputs": [],
   "source": []
  }
 ],
 "metadata": {
  "kernelspec": {
   "display_name": "Python 3",
   "language": "python",
   "name": "python3"
  },
  "language_info": {
   "codemirror_mode": {
    "name": "ipython",
    "version": 3
   },
   "file_extension": ".py",
   "mimetype": "text/x-python",
   "name": "python",
   "nbconvert_exporter": "python",
   "pygments_lexer": "ipython3",
   "version": "3.7.5"
  }
 },
 "nbformat": 4,
 "nbformat_minor": 2
}
